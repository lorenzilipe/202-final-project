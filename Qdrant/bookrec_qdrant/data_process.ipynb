{
 "cells": [
  {
   "cell_type": "code",
   "execution_count": 1,
   "metadata": {},
   "outputs": [],
   "source": [
    "import pandas as pd"
   ]
  },
  {
   "cell_type": "code",
   "execution_count": 8,
   "metadata": {},
   "outputs": [
    {
     "name": "stdout",
     "output_type": "stream",
     "text": [
      "<class 'pandas.core.frame.DataFrame'>\n",
      "RangeIndex: 41871 entries, 0 to 41870\n",
      "Data columns (total 8 columns):\n",
      " #   Column            Non-Null Count  Dtype  \n",
      "---  ------            --------------  -----  \n",
      " 0   work_id           41871 non-null  int64  \n",
      " 1   title             41871 non-null  object \n",
      " 2   author_ids        41871 non-null  object \n",
      " 3   description       41871 non-null  object \n",
      " 4   publication_year  37307 non-null  float64\n",
      " 5   ratings_count     41871 non-null  int64  \n",
      " 6   average_rating    41871 non-null  float64\n",
      " 7   num_pages         35074 non-null  float64\n",
      "dtypes: float64(3), int64(2), object(3)\n",
      "memory usage: 2.6+ MB\n"
     ]
    }
   ],
   "source": [
    "# Read the data from goodreads_books_comics_graphic_cleaned.csv\n",
    "df = pd.read_csv('goodreads_books_comics_graphic_cleaned.csv')\n",
    "df.info()"
   ]
  },
  {
   "cell_type": "code",
   "execution_count": null,
   "metadata": {},
   "outputs": [
    {
     "name": "stdout",
     "output_type": "stream",
     "text": [
      "<class 'pandas.core.frame.DataFrame'>\n",
      "RangeIndex: 41871 entries, 0 to 41870\n",
      "Data columns (total 2 columns):\n",
      " #   Column       Non-Null Count  Dtype \n",
      "---  ------       --------------  ----- \n",
      " 0   title        41871 non-null  object\n",
      " 1   description  41871 non-null  object\n",
      "dtypes: object(2)\n",
      "memory usage: 654.4+ KB\n"
     ]
    }
   ],
   "source": [
    "#drop all columns but title and description\n",
    "df = df[['title', 'description']]"
   ]
  },
  {
   "cell_type": "code",
   "execution_count": null,
   "metadata": {},
   "outputs": [
    {
     "name": "stdout",
     "output_type": "stream",
     "text": [
      "<class 'pandas.core.frame.DataFrame'>\n",
      "RangeIndex: 41871 entries, 0 to 41870\n",
      "Data columns (total 2 columns):\n",
      " #   Column   Non-Null Count  Dtype \n",
      "---  ------   --------------  ----- \n",
      " 0   title    41871 non-null  object\n",
      " 1   summary  41871 non-null  object\n",
      "dtypes: object(2)\n",
      "memory usage: 654.4+ KB\n"
     ]
    }
   ],
   "source": [
    "#rename description column to summary\n",
    "df = df.rename(columns={'description': 'summary'})\n",
    "df.info()"
   ]
  },
  {
   "cell_type": "code",
   "execution_count": 12,
   "metadata": {},
   "outputs": [],
   "source": [
    "#save the new dataframe to a new csv file\n",
    "df.to_csv('book_sum.csv', index=False)"
   ]
  },
  {
   "cell_type": "code",
   "execution_count": null,
   "metadata": {},
   "outputs": [],
   "source": []
  }
 ],
 "metadata": {
  "kernelspec": {
   "display_name": "base",
   "language": "python",
   "name": "python3"
  },
  "language_info": {
   "codemirror_mode": {
    "name": "ipython",
    "version": 3
   },
   "file_extension": ".py",
   "mimetype": "text/x-python",
   "name": "python",
   "nbconvert_exporter": "python",
   "pygments_lexer": "ipython3",
   "version": "3.11.7"
  }
 },
 "nbformat": 4,
 "nbformat_minor": 2
}
